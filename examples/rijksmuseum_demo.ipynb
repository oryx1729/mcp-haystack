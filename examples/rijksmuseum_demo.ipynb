{
 "cells": [
  {
   "cell_type": "markdown",
   "metadata": {},
   "source": [
    "# Rijksmuseum MCP Demo\n",
    "\n",
    "This notebook demonstrates how to use the MCP (Machine Callable Programs) integration with the Rijksmuseum API. It allows you to query information about artworks, search for specific pieces, and even open images in your browser."
   ]
  },
  {
   "cell_type": "markdown",
   "metadata": {},
   "source": [
    "## Setup\n",
    "\n",
    "First, let's import the necessary libraries and set up our MCP server connection."
   ]
  },
  {
   "cell_type": "code",
   "execution_count": 11,
   "metadata": {},
   "outputs": [],
   "source": [
    "import os\n",
    "import nest_asyncio\n",
    "import asyncio\n",
    "import getpass\n",
    "from haystack import Pipeline\n",
    "from haystack.components.converters import OutputAdapter\n",
    "from haystack.components.generators.chat import OpenAIChatGenerator\n",
    "from haystack.components.tools import ToolInvoker\n",
    "from haystack.dataclasses import ChatMessage\n",
    "\n",
    "from haystack_integrations.tools.mcp.connection import MCPServer, StdioServerInfo\n",
    "\n",
    "\n",
    "nest_asyncio.apply()"
   ]
  },
  {
   "cell_type": "markdown",
   "metadata": {},
   "source": [
    "## Configure API Keys\n",
    "\n",
    "You'll need to set your Rijksmuseum API key and OpenAI API key. You can get a Rijksmuseum API key by registering at [Rijksmuseum API](https://www.rijksmuseum.nl/en/research/conduct-research/data)."
   ]
  },
  {
   "cell_type": "code",
   "execution_count": 12,
   "metadata": {},
   "outputs": [
    {
     "name": "stdout",
     "output_type": "stream",
     "text": [
      "Enter your Rijksmuseum API key:  ········\n",
      "Enter your OpenAI API key:  ········\n"
     ]
    }
   ],
   "source": [
    "# Set your API keys here using getpass for security\n",
    "RIJKSMUSEUM_API_KEY = getpass.getpass(\"Enter your Rijksmuseum API key: \")\n",
    "os.environ[\"OPENAI_API_KEY\"] = getpass.getpass(\"Enter your OpenAI API key: \")\n",
    "\n",
    "# Path to your MCP server implementation\n",
    "NODE_PATH = \"node\"  # Update this to your Node.js path\n",
    "MCP_SERVER_PATH = \"/rijksmuseum-mcp/build/index.js\"  # Update this to your MCP server path"
   ]
  },
  {
   "cell_type": "markdown",
   "metadata": {},
   "source": [
    "## Initialize MCP Server\n",
    "\n",
    "Now let's initialize the MCP server connection and explore the available tools."
   ]
  },
  {
   "cell_type": "code",
   "execution_count": 13,
   "metadata": {},
   "outputs": [
    {
     "name": "stdout",
     "output_type": "stream",
     "text": [
      "\n",
      "Available tools on server:\n",
      "\n",
      "Tool: search_artwork\n",
      "Description: Search for artworks in the Rijksmuseum collection\n",
      "Parameters: {'type': 'object', 'properties': {'query': {'type': 'string', 'description': 'Search terms to find artwork (e.g. title, artist, etc)'}, 'pageSize': {'type': 'number', 'description': 'Number of results to return (1-100)', 'minimum': 1, 'maximum': 100, 'default': 10}}, 'required': ['query']}\n",
      "--------------------------------------------------\n",
      "\n",
      "Tool: get_artwork_details\n",
      "Description: Get detailed information about a specific artwork\n",
      "Parameters: {'type': 'object', 'properties': {'objectNumber': {'type': 'string', 'description': 'The identifier of the artwork (e.g. SK-C-5 for The Night Watch)'}}, 'required': ['objectNumber']}\n",
      "--------------------------------------------------\n",
      "\n",
      "Tool: get_artwork_image\n",
      "Description: Get image tiles information for an artwork\n",
      "Parameters: {'type': 'object', 'properties': {'objectNumber': {'type': 'string', 'description': 'The identifier of the artwork'}}, 'required': ['objectNumber']}\n",
      "--------------------------------------------------\n",
      "\n",
      "Tool: get_user_sets\n",
      "Description: Get collections created by Rijksstudio users\n",
      "Parameters: {'type': 'object', 'properties': {'page': {'type': 'number', 'description': 'Page number to fetch (0-based)', 'minimum': 0, 'default': 0}, 'pageSize': {'type': 'number', 'description': 'Number of results per page (1-100)', 'minimum': 1, 'maximum': 100, 'default': 10}}}\n",
      "--------------------------------------------------\n",
      "\n",
      "Tool: get_user_set_details\n",
      "Description: Get details about a specific user collection\n",
      "Parameters: {'type': 'object', 'properties': {'setId': {'type': 'string', 'description': 'The ID of the user set to fetch'}}, 'required': ['setId']}\n",
      "--------------------------------------------------\n",
      "\n",
      "Tool: open_image_in_browser\n",
      "Description: Open an artwork image URL in your default browser\n",
      "Parameters: {'type': 'object', 'properties': {'imageUrl': {'type': 'string', 'description': 'The URL of the image to open'}}, 'required': ['imageUrl']}\n",
      "--------------------------------------------------\n",
      "\n",
      "Tool: get_artist_timeline\n",
      "Description: Get a chronological timeline of an artist's works\n",
      "Parameters: {'type': 'object', 'properties': {'artist': {'type': 'string', 'description': 'Name of the artist'}, 'maxWorks': {'type': 'number', 'description': 'Maximum number of works to include', 'minimum': 1, 'maximum': 50, 'default': 10}}, 'required': ['artist']}\n",
      "--------------------------------------------------\n"
     ]
    }
   ],
   "source": [
    "# Initialize the MCP server connection\n",
    "try:\n",
    "    server = MCPServer(\n",
    "        server_info=StdioServerInfo(\n",
    "            command=NODE_PATH, \n",
    "            args=[MCP_SERVER_PATH], \n",
    "            env={\"RIJKSMUSEUM_API_KEY\": RIJKSMUSEUM_API_KEY}\n",
    "        ),\n",
    "        connection_timeout=30  # Increase timeout if needed\n",
    "    )\n",
    "    \n",
    "    print(\"\\nAvailable tools on server:\")\n",
    "    tools = server.available_tools\n",
    "    for tool in tools:\n",
    "        print(f\"\\nTool: {tool.name}\")\n",
    "        print(f\"Description: {tool.description}\")\n",
    "        print(\"Parameters:\", tool.parameters)\n",
    "        print(\"-\" * 50)\n",
    "except Exception as e:\n",
    "    print(f\"Error initializing MCP server: {e}\")\n",
    "    print(\"\\nTroubleshooting tips:\")\n",
    "    print(\"1. Make sure your Node.js path is correct\")\n",
    "    print(\"2. Make sure your MCP server path is correct\")\n",
    "    print(\"3. Make sure your Rijksmuseum API key is valid\")\n",
    "    print(\"4. Try running the server manually to check for errors\")\n",
    "    raise"
   ]
  },
  {
   "cell_type": "markdown",
   "metadata": {},
   "source": [
    "## Create Pipeline\n",
    "\n",
    "Let's create a pipeline that uses the MCP server to select and use the appropriate tool for a given query."
   ]
  },
  {
   "cell_type": "code",
   "execution_count": 14,
   "metadata": {},
   "outputs": [
    {
     "data": {
      "text/plain": [
       "<haystack.core.pipeline.pipeline.Pipeline object at 0x10a22a4d0>\n",
       "🚅 Components\n",
       "  - llm: OpenAIChatGenerator\n",
       "  - tool_invoker: ToolInvoker\n",
       "  - adapter: OutputAdapter\n",
       "  - response_llm: OpenAIChatGenerator\n",
       "🛤️ Connections\n",
       "  - llm.replies -> tool_invoker.messages (List[ChatMessage])\n",
       "  - llm.replies -> adapter.initial_tool_messages (List[ChatMessage])\n",
       "  - tool_invoker.tool_messages -> adapter.tool_messages (List[ChatMessage])\n",
       "  - adapter.output -> response_llm.messages (list[ChatMessage])"
      ]
     },
     "execution_count": 14,
     "metadata": {},
     "output_type": "execute_result"
    }
   ],
   "source": [
    "# Create pipeline components with all available tools\n",
    "pipeline = Pipeline()\n",
    "pipeline.add_component(\n",
    "    \"llm\", \n",
    "    OpenAIChatGenerator(\n",
    "        model=\"gpt-4o\", \n",
    "        tools=tools,\n",
    "    )\n",
    ")\n",
    "pipeline.add_component(\n",
    "    \"tool_invoker\", \n",
    "    ToolInvoker(tools=tools)\n",
    ")\n",
    "pipeline.add_component(\n",
    "    \"adapter\",\n",
    "    OutputAdapter(\n",
    "        template=\"{{ initial_msg + initial_tool_messages + tool_messages }}\",\n",
    "        output_type=list[ChatMessage],\n",
    "        unsafe=True,\n",
    "    ),\n",
    ")\n",
    "pipeline.add_component(\n",
    "    \"response_llm\", \n",
    "    OpenAIChatGenerator(model=\"gpt-4o\")\n",
    ")\n",
    "\n",
    "# Connect pipeline components\n",
    "pipeline.connect(\"llm.replies\", \"tool_invoker.messages\")\n",
    "pipeline.connect(\"llm.replies\", \"adapter.initial_tool_messages\")\n",
    "pipeline.connect(\"tool_invoker.tool_messages\", \"adapter.tool_messages\")\n",
    "pipeline.connect(\"adapter.output\", \"response_llm.messages\")"
   ]
  },
  {
   "cell_type": "markdown",
   "metadata": {},
   "source": [
    "## Interactive Demo\n",
    "\n",
    "Now let's create an interactive function to query the pipeline."
   ]
  },
  {
   "cell_type": "code",
   "execution_count": 15,
   "metadata": {},
   "outputs": [],
   "source": [
    "def query_rijksmuseum(user_input):\n",
    "    user_input_msg = ChatMessage.from_user(text=user_input)\n",
    "    \n",
    "    try:\n",
    "        result = pipeline.run({\n",
    "            \"llm\": {\"messages\": [user_input_msg]}, \n",
    "            \"adapter\": {\"initial_msg\": [user_input_msg]}\n",
    "        }, include_outputs_from={\"tool_invoker\"})\n",
    "        \n",
    "        print(\"\\nUser:\", user_input)\n",
    "        print(\"\\nAssistant:\", result[\"response_llm\"][\"replies\"][0].text)\n",
    "        print(\"\\nTool invocations:\")\n",
    "        for tool_call in result[\"tool_invoker\"].get(\"tool_calls\", []):\n",
    "            print(f\"  - Tool: {tool_call.get('name')}\")\n",
    "            print(f\"    Arguments: {tool_call.get('arguments')}\")\n",
    "            print(f\"    Response: {tool_call.get('response')}\")\n",
    "        \n",
    "        return result\n",
    "    except Exception as e:\n",
    "        print(f\"Error during query: {e}\")"
   ]
  },
  {
   "cell_type": "markdown",
   "metadata": {},
   "source": [
    "## Example Queries\n",
    "\n",
    "Let's try some example queries to demonstrate the functionality."
   ]
  },
  {
   "cell_type": "code",
   "execution_count": null,
   "metadata": {},
   "outputs": [],
   "source": [
    "# Example 1: Search for popular artworks\n",
    "query_rijksmuseum(\"What are the most popular artworks in the Rijksmuseum?\")"
   ]
  },
  {
   "cell_type": "code",
   "execution_count": null,
   "metadata": {},
   "outputs": [],
   "source": [
    "# Example 2: Get information about Rembrandt\n",
    "query_rijksmuseum(\"What years was Rembrandt active?\")"
   ]
  },
  {
   "cell_type": "code",
   "execution_count": 16,
   "metadata": {},
   "outputs": [
    {
     "name": "stdout",
     "output_type": "stream",
     "text": [
      "\n",
      "User: Can you show me The Night Watch in my browser?\n",
      "\n",
      "Assistant: I've opened \"The Night Watch\" by Rembrandt in your browser. You can view it by following [this link](https://www.rijksmuseum.nl/en/collection/SK-C-5).\n",
      "\n",
      "Tool invocations:\n"
     ]
    },
    {
     "data": {
      "text/plain": [
       "{'tool_invoker': {'tool_messages': [ChatMessage(_role=<ChatRole.TOOL: 'tool'>, _content=[ToolCallResult(result='Successfully opened image in browser: https://www.rijksmuseum.nl/en/collection/SK-C-5', origin=ToolCall(tool_name='open_image_in_browser', arguments={'imageUrl': 'https://www.rijksmuseum.nl/en/collection/SK-C-5'}, id='call_32cQcvdLEZu5DK9J5ojgDysk'), error=False)], _name=None, _meta={})]},\n",
       " 'response_llm': {'replies': [ChatMessage(_role=<ChatRole.ASSISTANT: 'assistant'>, _content=[TextContent(text='I\\'ve opened \"The Night Watch\" by Rembrandt in your browser. You can view it by following [this link](https://www.rijksmuseum.nl/en/collection/SK-C-5).')], _name=None, _meta={'model': 'gpt-4o-2024-08-06', 'index': 0, 'finish_reason': 'stop', 'usage': {'completion_tokens': 41, 'prompt_tokens': 80, 'total_tokens': 121, 'completion_tokens_details': CompletionTokensDetails(accepted_prediction_tokens=0, audio_tokens=0, reasoning_tokens=0, rejected_prediction_tokens=0), 'prompt_tokens_details': PromptTokensDetails(audio_tokens=0, cached_tokens=0)}})]}}"
      ]
     },
     "execution_count": 16,
     "metadata": {},
     "output_type": "execute_result"
    }
   ],
   "source": [
    "# Example 3: Open an image in the browser\n",
    "query_rijksmuseum(\"Can you show me The Night Watch in my browser?\")"
   ]
  },
  {
   "cell_type": "code",
   "execution_count": null,
   "metadata": {},
   "outputs": [],
   "source": [
    "# Example 4: Get details about a specific artwork\n",
    "query_rijksmuseum(\"Get me the details of the artwork called The Night Watch\")"
   ]
  },
  {
   "cell_type": "markdown",
   "metadata": {},
   "source": [
    "## Interactive User Input\n",
    "\n",
    "Now you can try your own queries!"
   ]
  },
  {
   "cell_type": "code",
   "execution_count": null,
   "metadata": {},
   "outputs": [],
   "source": [
    "from ipywidgets import widgets\n",
    "from IPython.display import display, HTML\n",
    "\n",
    "text_input = widgets.Text(\n",
    "    value='',\n",
    "    placeholder='Enter your question about Rijksmuseum artworks',\n",
    "    description='Query:',\n",
    "    disabled=False,\n",
    "    style={'description_width': 'initial'},\n",
    "    layout=widgets.Layout(width='80%')\n",
    ")\n",
    "\n",
    "button = widgets.Button(\n",
    "    description='Submit',\n",
    "    disabled=False,\n",
    "    button_style='', \n",
    "    tooltip='Submit your query',\n",
    "    icon='check'\n",
    ")\n",
    "\n",
    "output = widgets.Output()\n",
    "\n",
    "def on_button_clicked(b):\n",
    "    with output:\n",
    "        output.clear_output()\n",
    "        if text_input.value:\n",
    "            query_rijksmuseum(text_input.value)\n",
    "        else:\n",
    "            print(\"Please enter a query.\")\n",
    "\n",
    "button.on_click(on_button_clicked)\n",
    "\n",
    "display(widgets.HBox([text_input, button]))\n",
    "display(output)"
   ]
  },
  {
   "cell_type": "markdown",
   "metadata": {},
   "source": [
    "## Example Queries You Can Try\n",
    "\n",
    "Here are some example queries you can try:\n",
    "\n",
    "1. \"What are the most famous paintings by Vermeer?\"\n",
    "2. \"Show me paintings with flowers from the 17th century\"\n",
    "3. \"Can you open Girl with a Pearl Earring in my browser?\"\n",
    "4. \"Tell me about the history of The Night Watch\"\n",
    "5. \"What are some notable Dutch Golden Age paintings in the collection?\"\n",
    "6. \"Find artworks depicting Amsterdam in winter\"\n",
    "7. \"Show me the details of Rembrandt's self-portraits\"\n",
    "8. \"What's the most valuable artwork in the Rijksmuseum?\""
   ]
  },
  {
   "cell_type": "markdown",
   "metadata": {},
   "source": [
    "## Cleanup\n",
    "\n",
    "When you're done, make sure to close the MCP server connection."
   ]
  },
  {
   "cell_type": "code",
   "execution_count": null,
   "metadata": {},
   "outputs": [],
   "source": [
    "# Close the server connection when done\n",
    "try:\n",
    "    server.close()\n",
    "    print(\"MCP server connection closed successfully.\")\n",
    "except Exception as e:\n",
    "    print(f\"Error closing MCP server connection: {e}\")"
   ]
  }
 ],
 "metadata": {
  "kernelspec": {
   "display_name": "Python 3 (ipykernel)",
   "language": "python",
   "name": "python3"
  },
  "language_info": {
   "codemirror_mode": {
    "name": "ipython",
    "version": 3
   },
   "file_extension": ".py",
   "mimetype": "text/x-python",
   "name": "python",
   "nbconvert_exporter": "python",
   "pygments_lexer": "ipython3",
   "version": "3.10.13"
  }
 },
 "nbformat": 4,
 "nbformat_minor": 4
}
